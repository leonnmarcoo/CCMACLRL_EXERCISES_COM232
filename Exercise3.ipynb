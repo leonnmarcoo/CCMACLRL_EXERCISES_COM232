{
  "cells": [
    {
      "cell_type": "markdown",
      "metadata": {
        "id": "view-in-github",
        "colab_type": "text"
      },
      "source": [
        "<a href=\"https://colab.research.google.com/github/leonnmarcoo/CCMACLRL_EXERCISES_COM232/blob/main/Exercise3.ipynb\" target=\"_parent\"><img src=\"https://colab.research.google.com/assets/colab-badge.svg\" alt=\"Open In Colab\"/></a>"
      ]
    },
    {
      "cell_type": "markdown",
      "source": [
        "# Exercise 3\n",
        "\n",
        "Use logistic regression to predict the probability of a passenger surviving.\n",
        "\n",
        "https://www.kaggle.com/competitions/titanic/overview"
      ],
      "metadata": {
        "id": "9GBV1vWvhTOL"
      }
    },
    {
      "cell_type": "code",
      "execution_count": null,
      "metadata": {
        "id": "R_se3V8gftVL"
      },
      "outputs": [],
      "source": [
        "import pandas as pd\n",
        "import numpy as np\n"
      ]
    },
    {
      "cell_type": "markdown",
      "metadata": {
        "id": "eCNNEXIhftVN"
      },
      "source": [
        "## Dataset File"
      ]
    },
    {
      "cell_type": "code",
      "execution_count": null,
      "metadata": {
        "id": "-Cqj3uEkftVO"
      },
      "outputs": [],
      "source": [
        "dataset_url = 'https://github.com/robitussin/CCMACLRL_EXERCISES_OLD/blob/f5fdfba1aabbbafcf2fe49ca6e1c8f92f69d1458/datasets/titanic/train.csv?raw=true'\n",
        "df = pd.read_csv(dataset_url)"
      ]
    },
    {
      "cell_type": "markdown",
      "metadata": {
        "id": "mLFiGySNftVP"
      },
      "source": [
        "## Test File"
      ]
    },
    {
      "cell_type": "code",
      "execution_count": null,
      "metadata": {
        "id": "7pKmP53fftVP"
      },
      "outputs": [],
      "source": [
        "test_url = 'https://github.com/robitussin/CCMACLRL_EXERCISES_OLD/blob/f5fdfba1aabbbafcf2fe49ca6e1c8f92f69d1458/datasets/titanic/test.csv?raw=true'\n",
        "dt=pd.read_csv(test_url)"
      ]
    },
    {
      "cell_type": "code",
      "source": [
        "dt.info()"
      ],
      "metadata": {
        "colab": {
          "base_uri": "https://localhost:8080/"
        },
        "id": "2f11HsMzqEvJ",
        "outputId": "00f2c377-0917-45c8-f868-aaa584cd7900"
      },
      "execution_count": null,
      "outputs": [
        {
          "output_type": "stream",
          "name": "stdout",
          "text": [
            "<class 'pandas.core.frame.DataFrame'>\n",
            "RangeIndex: 418 entries, 0 to 417\n",
            "Data columns (total 11 columns):\n",
            " #   Column       Non-Null Count  Dtype  \n",
            "---  ------       --------------  -----  \n",
            " 0   PassengerId  418 non-null    int64  \n",
            " 1   Pclass       418 non-null    int64  \n",
            " 2   Name         418 non-null    object \n",
            " 3   Sex          418 non-null    object \n",
            " 4   Age          332 non-null    float64\n",
            " 5   SibSp        418 non-null    int64  \n",
            " 6   Parch        418 non-null    int64  \n",
            " 7   Ticket       418 non-null    object \n",
            " 8   Fare         417 non-null    float64\n",
            " 9   Cabin        91 non-null     object \n",
            " 10  Embarked     418 non-null    object \n",
            "dtypes: float64(2), int64(4), object(5)\n",
            "memory usage: 36.1+ KB\n"
          ]
        }
      ]
    },
    {
      "cell_type": "markdown",
      "metadata": {
        "id": "ntGpbsBg8hft"
      },
      "source": [
        "## Sample Submission File"
      ]
    },
    {
      "cell_type": "code",
      "execution_count": null,
      "metadata": {
        "id": "-5Dwtw_w3U8W"
      },
      "outputs": [],
      "source": [
        "sample_submission_url ='https://github.com/robitussin/CCMACLRL_EXERCISES_OLD/blob/f5fdfba1aabbbafcf2fe49ca6e1c8f92f69d1458/datasets/titanic/gender_submission.csv?raw=true'\n",
        "\n",
        "sf=pd.read_csv(sample_submission_url)"
      ]
    },
    {
      "cell_type": "code",
      "source": [
        "sf.info()"
      ],
      "metadata": {
        "colab": {
          "base_uri": "https://localhost:8080/"
        },
        "id": "K1_62qZBqLjV",
        "outputId": "4363ef16-bdbc-4126-f9a5-b31e7bdf8447"
      },
      "execution_count": null,
      "outputs": [
        {
          "output_type": "stream",
          "name": "stdout",
          "text": [
            "<class 'pandas.core.frame.DataFrame'>\n",
            "RangeIndex: 418 entries, 0 to 417\n",
            "Data columns (total 2 columns):\n",
            " #   Column       Non-Null Count  Dtype\n",
            "---  ------       --------------  -----\n",
            " 0   PassengerId  418 non-null    int64\n",
            " 1   Survived     418 non-null    int64\n",
            "dtypes: int64(2)\n",
            "memory usage: 6.7 KB\n"
          ]
        }
      ]
    },
    {
      "cell_type": "markdown",
      "source": [
        "## Generate Results"
      ],
      "metadata": {
        "id": "a6UAAMyepmHi"
      }
    },
    {
      "cell_type": "code",
      "source": [
        "id = sf.pop('PassengerId')\n",
        "y_pred = model.predict(dt)\n",
        "\n",
        "# Create a submission DataFrame\n",
        "submission_df = pd.DataFrame({\n",
        "    'PassengerID': id,\n",
        "    'Survived': y_pred\n",
        "})\n",
        "\n",
        "# Save the submission DataFrame to a CSV file\n",
        "submission_df.to_csv('submission_file.csv', index=False)\n",
        "print(\"Submission file created: submission_file.csv\")"
      ],
      "metadata": {
        "id": "HrelEEFJpjzI"
      },
      "execution_count": null,
      "outputs": []
    }
  ],
  "metadata": {
    "colab": {
      "provenance": [],
      "include_colab_link": true
    },
    "kernelspec": {
      "display_name": "Python 3",
      "name": "python3"
    },
    "language_info": {
      "name": "python",
      "version": "3.12.4"
    }
  },
  "nbformat": 4,
  "nbformat_minor": 0
}